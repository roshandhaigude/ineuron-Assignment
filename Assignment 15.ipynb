{
 "cells": [
  {
   "cell_type": "markdown",
   "metadata": {},
   "source": [
    "What are the new features added in Python 3.8 version?\n",
    "\n",
    "What is monkey patching in Python?\n",
    "\n",
    "What is the difference between a shallow copy and deep copy?\n",
    "\n",
    "What is the maximum possible length of an identifier?\n",
    "\n",
    "What is generator comprehension?\n"
   ]
  },
  {
   "cell_type": "markdown",
   "metadata": {},
   "source": [
    "1) 1.The walrus operator\n",
    "  \n",
    "  while line := f.readline():\n",
    "\n",
    "  2. Positional-only arguments\n",
    "  \n",
    "  def pow(x, y, z=None, /):\n",
    "    r = x ** y\n",
    "    if z is not None:\n",
    "        r %= z\n",
    "    return r\n",
    "    \n",
    "   3. f-strings now support “=”\n",
    "   \n",
    "   4. . reversed() now works with dict\n",
    "   \n",
    "   5. Simplified iterable unpacking for return and yield\n",
    "   \n",
    "   6. New syntax warnings\n",
    "    \n",
    "    data = [\n",
    "    (1, 2, 3)  # oops, missing comma!\n",
    "    (4, 5, 6)\n",
    "]\n",
    "\n",
    "    "
   ]
  },
  {
   "cell_type": "markdown",
   "metadata": {},
   "source": [
    "2) In Python, the term monkey patch refers to dynamic (or run-time) modifications of a class or module. In Python, we can actually change the behavior of code at run-time.\n",
    "\n"
   ]
  },
  {
   "cell_type": "markdown",
   "metadata": {},
   "source": [
    "3) A shallow copy constructs a new compound object and then (to the extent possible) inserts references into it to the objects found in the original.\n",
    "\n",
    "   A deep copy constructs a new compound object and then, recursively, inserts copies into it of the objects found in the original."
   ]
  },
  {
   "cell_type": "markdown",
   "metadata": {},
   "source": [
    "4) In Python, the highest possible length of an identifier is 79 characters. Python is a high level programming language. It’s also a complex form and a collector of waste.\n",
    "\n",
    "Python, particularly when combined with identifiers, is case-sensitive.\n",
    "When writing or using identifiers in Python, it has a maximum of 79 characters.\n",
    "Unlikely, Python gives the identifiers unlimited length.\n",
    "However, the layout of PEP-8 prevents the user from breaking the rules and includes a 79-character limit"
   ]
  },
  {
   "cell_type": "markdown",
   "metadata": {},
   "source": [
    "5) A generator comprehension is a single-line specification for defining a generator in Python. It is absolutely essential to learn this syntax in order to write simple and readable code."
   ]
  },
  {
   "cell_type": "code",
   "execution_count": null,
   "metadata": {},
   "outputs": [],
   "source": []
  }
 ],
 "metadata": {
  "kernelspec": {
   "display_name": "Python 3",
   "language": "python",
   "name": "python3"
  },
  "language_info": {
   "codemirror_mode": {
    "name": "ipython",
    "version": 3
   },
   "file_extension": ".py",
   "mimetype": "text/x-python",
   "name": "python",
   "nbconvert_exporter": "python",
   "pygments_lexer": "ipython3",
   "version": "3.8.5"
  }
 },
 "nbformat": 4,
 "nbformat_minor": 4
}
